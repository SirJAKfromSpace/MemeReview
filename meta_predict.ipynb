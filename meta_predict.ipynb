{
 "cells": [
  {
   "cell_type": "code",
   "execution_count": 4,
   "metadata": {},
   "outputs": [
    {
     "name": "stdout",
     "output_type": "stream",
     "text": [
      "Done Importing\n"
     ]
    }
   ],
   "source": [
    "import pandas as pd\n",
    "import numpy as np\n",
    "import matplotlib.pylab as plt\n",
    "%matplotlib inline\n",
    "from matplotlib.pylab import rcParams\n",
    "rcParams['figure.figsize'] = 15, 6\n",
    "\n",
    "print('Done Importing')"
   ]
  },
  {
   "cell_type": "code",
   "execution_count": 5,
   "metadata": {},
   "outputs": [
    {
     "name": "stdout",
     "output_type": "stream",
     "text": [
      "   index      id          author                               media  upvotes  \\\n",
      "0   1556  57y1go  ZigguratofDoom      http://i.imgur.com/s5TJAZK.jpg     4031   \n",
      "1   1386  61tirk    the-ryback92  https://i.redd.it/i6wjph8yhzny.jpg     7053   \n",
      "2   2800  6akqkh      bern_trees  https://i.redd.it/ak2mimrv0wwy.jpg      841   \n",
      "3   2007  6ldzxu          JF_112      http://i.imgur.com/labpM1u.jpg    75999   \n",
      "4    643  6pfrsw     LegendaryVD  https://i.redd.it/b79g2q09eqbz.png    18644   \n",
      "\n",
      "             date           type  \n",
      "0  17-10-16 15:52  Art Classical  \n",
      "1  27-03-17 17:18  Art Classical  \n",
      "2  11-05-17 15:14  Art Classical  \n",
      "3  05-07-17 13:26  Art Classical  \n",
      "4  25-07-17 12:23  Art Classical  \n",
      "\n",
      " Data Types:\n",
      "index       int64\n",
      "id         object\n",
      "author     object\n",
      "media      object\n",
      "upvotes     int64\n",
      "date       object\n",
      "type       object\n",
      "dtype: object\n"
     ]
    }
   ],
   "source": [
    "data = pd.read_csv('meme_metadata.csv')\n",
    "print(data.head())\n",
    "print('\\n Data Types:')\n",
    "print(data.dtypes)\n"
   ]
  },
  {
   "cell_type": "code",
   "execution_count": 6,
   "metadata": {},
   "outputs": [],
   "source": [
    "dateparse = lambda dates: pd.datetime.strptime(dates, '%d-%m-%y %H:%M')"
   ]
  },
  {
   "cell_type": "code",
   "execution_count": 13,
   "metadata": {},
   "outputs": [
    {
     "name": "stdout",
     "output_type": "stream",
     "text": [
      "                     upvotes\n",
      "date                        \n",
      "2016-10-17 15:52:00     4031\n",
      "2017-03-27 17:18:00     7053\n",
      "2017-05-11 15:14:00      841\n",
      "2017-07-05 13:26:00    75999\n",
      "2017-07-25 12:23:00    18644\n"
     ]
    }
   ],
   "source": [
    "data = pd.read_csv('meme_metadata.csv', parse_dates=['date'], index_col='date', date_parser=dateparse, skipinitialspace=True, usecols=['date','upvotes'])\n",
    "print (data.head())"
   ]
  },
  {
   "cell_type": "code",
   "execution_count": 15,
   "metadata": {},
   "outputs": [
    {
     "data": {
      "text/plain": [
       "DatetimeIndex(['2016-10-17 15:52:00', '2017-03-27 17:18:00',\n",
       "               '2017-05-11 15:14:00', '2017-07-05 13:26:00',\n",
       "               '2017-07-25 12:23:00', '2017-09-15 01:26:00',\n",
       "               '2017-09-24 10:44:00', '2017-10-18 15:40:00',\n",
       "               '2017-10-27 19:04:00', '2017-10-29 11:47:00',\n",
       "               ...\n",
       "               '2018-04-12 04:22:00', '2018-04-12 09:21:00',\n",
       "               '2018-04-12 12:53:00', '2018-04-12 13:47:00',\n",
       "               '2018-04-12 15:17:00', '2018-04-12 22:07:00',\n",
       "               '2018-04-13 05:21:00', '2018-04-13 23:46:00',\n",
       "               '2018-04-14 09:36:00', '2018-04-14 14:17:00'],\n",
       "              dtype='datetime64[ns]', name='date', length=1704, freq=None)"
      ]
     },
     "execution_count": 15,
     "metadata": {},
     "output_type": "execute_result"
    }
   ],
   "source": [
    "df = data[data.type == 'Stock'].to_csv(sep='\\t',index=False)\n",
    "print(df)\n",
    "data.index"
   ]
  },
  {
   "cell_type": "code",
   "execution_count": 17,
   "metadata": {
    "scrolled": false
   },
   "outputs": [
    {
     "name": "stdout",
     "output_type": "stream",
     "text": [
      "moddata\n",
      "[[ 4031]\n",
      " [ 7053]\n",
      " [  841]\n",
      " ...\n",
      " [21540]\n",
      " [ 1618]\n",
      " [  502]]\n",
      "[15933.62736645 16387.83212651 17497.62252912 12455.13464056\n",
      " 14731.63315128 14512.56861165 11543.79830773 13785.40102218\n",
      " 12622.40748773 15984.25960907 12017.52797276 17421.29923893\n",
      " 13672.20133115 15482.45921936 14215.25844685 15109.59790083\n",
      " 17893.01673507 14501.31205465 14440.69744006 15122.99490118\n",
      " 16552.49681343 14835.47800071 14813.1516826  15757.3955059\n",
      " 15985.32436843 16250.14419007 15539.57773598 16466.99143023\n",
      " 16038.49016886 16143.31328011 15976.9088304  16396.0120262\n",
      " 16436.46107608 16301.66106106 16745.72114636 16574.41398975\n",
      " 16796.74788051 16575.63547859 16869.85467826 17035.3224595\n",
      " 16890.68032915 16914.93105365 17040.10732687 17250.46893682\n",
      " 17115.29108229 17208.60640189 17265.30749059 17393.28756481\n",
      " 17398.72474944 17421.72137276 17546.14406999]\n"
     ]
    }
   ],
   "source": [
    "from statsmodels.tsa.ar_model import AR\n",
    "from random import random\n",
    "# contrived dataset\n",
    "# data = [x for x in range(0, 101, 5)]\n",
    "moddata = np.asarray(data)\n",
    "print(moddata)\n",
    "# fit model\n",
    "model = AR(moddata)\n",
    "model_fit = model.fit()\n",
    "# make prediction\n",
    "yhat = model_fit.predict(len(moddata), len(moddata) + 50)\n",
    "print(yhat)"
   ]
  },
  {
   "cell_type": "code",
   "execution_count": null,
   "metadata": {},
   "outputs": [],
   "source": []
  }
 ],
 "metadata": {
  "kernelspec": {
   "display_name": "Python 3",
   "language": "python",
   "name": "python3"
  },
  "language_info": {
   "codemirror_mode": {
    "name": "ipython",
    "version": 3
   },
   "file_extension": ".py",
   "mimetype": "text/x-python",
   "name": "python",
   "nbconvert_exporter": "python",
   "pygments_lexer": "ipython3",
   "version": "3.7.0"
  }
 },
 "nbformat": 4,
 "nbformat_minor": 2
}
