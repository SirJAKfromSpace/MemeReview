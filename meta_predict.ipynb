{
 "cells": [
  {
   "cell_type": "code",
   "execution_count": 3,
   "metadata": {},
   "outputs": [
    {
     "name": "stdout",
     "output_type": "stream",
     "text": [
      "Done Importing\n"
     ]
    }
   ],
   "source": [
    "import pandas as pd\n",
    "import numpy as np\n",
    "import matplotlib.pylab as plt\n",
    "%matplotlib inline\n",
    "from matplotlib.pylab import rcParams\n",
    "rcParams['figure.figsize'] = 15, 6\n",
    "\n",
    "print('Done Importing')"
   ]
  },
  {
   "cell_type": "code",
   "execution_count": 6,
   "metadata": {},
   "outputs": [
    {
     "name": "stdout",
     "output_type": "stream",
     "text": [
      "   index      id                author                           media  \\\n",
      "0   2132  2bvcu7         PuroMichoacan  http://i.imgur.com/Fyc45EJ.jpg   \n",
      "1   2275  2dxg4j        berniethecatch  http://i.imgur.com/mDBCnSs.jpg   \n",
      "2   2239  2g0uu5         iBleeedorange    http://imgur.com/tIfe6st.jpg   \n",
      "3   2117  2msrcz  TheBattleOfBallsDeep  http://i.imgur.com/vy4M72i.jpg   \n",
      "4   2161  2niehv          black_brotha  http://i.imgur.com/CsyACwG.jpg   \n",
      "\n",
      "   upvotes            date            type  \n",
      "0    65951  27-07-14 17:30  Cool Stuff IRL  \n",
      "1    58069  18-08-14 22:48  Cool Stuff IRL  \n",
      "2    59930  10-09-14 17:37  Cool Stuff IRL  \n",
      "3    66678  19-11-14 19:25  Cool Stuff IRL  \n",
      "4    64615  26-11-14 20:31  Cool Stuff IRL  \n",
      "\n",
      " Data Types:\n",
      "index       int64\n",
      "id         object\n",
      "author     object\n",
      "media      object\n",
      "upvotes     int64\n",
      "date       object\n",
      "type       object\n",
      "dtype: object\n"
     ]
    }
   ],
   "source": [
    "data = pd.read_csv('meme_metadata.csv')\n",
    "print (data.head())\n",
    "print ('\\n Data Types:')\n",
    "print (data.dtypes)"
   ]
  },
  {
   "cell_type": "code",
   "execution_count": 17,
   "metadata": {},
   "outputs": [],
   "source": [
    "dateparse = lambda dates: pd.datetime.strptime(dates, '%d-%m-%y %H:%M')"
   ]
  },
  {
   "cell_type": "code",
   "execution_count": 61,
   "metadata": {},
   "outputs": [
    {
     "name": "stdout",
     "output_type": "stream",
     "text": [
      "                     upvotes\n",
      "date                        \n",
      "2014-07-27 17:30:00    65951\n",
      "2014-08-18 22:48:00    58069\n",
      "2014-09-10 17:37:00    59930\n",
      "2014-11-19 19:25:00    66678\n",
      "2014-11-26 20:31:00    64615\n"
     ]
    }
   ],
   "source": [
    "data = pd.read_csv('meme_metadata.csv', parse_dates=['date'], index_col='date', date_parser=dateparse, skipinitialspace=True, usecols=['date','upvotes'])\n",
    "print (data.head())"
   ]
  },
  {
   "cell_type": "code",
   "execution_count": 57,
   "metadata": {},
   "outputs": [
    {
     "name": "stdout",
     "output_type": "stream",
     "text": [
      "upvotes\ttype\n",
      "14734\tStock\n",
      "19033\tStock\n",
      "23856\tStock\n",
      "9549\tStock\n",
      "65121\tStock\n",
      "17365\tStock\n",
      "572\tStock\n",
      "2130\tStock\n",
      "6556\tStock\n",
      "18525\tStock\n",
      "14550\tStock\n",
      "707\tStock\n",
      "10728\tStock\n",
      "1281\tStock\n",
      "1921\tStock\n",
      "508\tStock\n",
      "6028\tStock\n",
      "5200\tStock\n",
      "799\tStock\n",
      "622\tStock\n",
      "568\tStock\n",
      "9083\tStock\n",
      "27581\tStock\n",
      "667\tStock\n",
      "23287\tStock\n",
      "10321\tStock\n",
      "568\tStock\n",
      "7539\tStock\n",
      "570\tStock\n",
      "24360\tStock\n",
      "17815\tStock\n",
      "718\tStock\n",
      "578\tStock\n",
      "10133\tStock\n",
      "27535\tStock\n",
      "3189\tStock\n",
      "8149\tStock\n",
      "29740\tStock\n",
      "15959\tStock\n",
      "41241\tStock\n",
      "20648\tStock\n",
      "1104\tStock\n",
      "16734\tStock\n",
      "10033\tStock\n",
      "37381\tStock\n",
      "522\tStock\n",
      "38865\tStock\n",
      "9261\tStock\n",
      "20321\tStock\n",
      "3369\tStock\n",
      "33799\tStock\n",
      "3290\tStock\n",
      "6841\tStock\n",
      "756\tStock\n",
      "21356\tStock\n",
      "18728\tStock\n",
      "981\tStock\n",
      "19496\tStock\n",
      "543\tStock\n",
      "996\tStock\n",
      "53315\tStock\n",
      "30777\tStock\n",
      "20773\tStock\n",
      "868\tStock\n",
      "15550\tStock\n",
      "518\tStock\n",
      "758\tStock\n",
      "14086\tStock\n",
      "25811\tStock\n",
      "1644\tStock\n",
      "3101\tStock\n",
      "9739\tStock\n",
      "12361\tStock\n",
      "660\tStock\n",
      "19914\tStock\n",
      "26792\tStock\n",
      "9361\tStock\n",
      "709\tStock\n",
      "4353\tStock\n",
      "3895\tStock\n",
      "4031\tStock\n",
      "2813\tStock\n",
      "4150\tStock\n",
      "34757\tStock\n",
      "5895\tStock\n",
      "15324\tStock\n",
      "13104\tStock\n",
      "2326\tStock\n",
      "6167\tStock\n",
      "599\tStock\n",
      "78389\tStock\n",
      "17856\tStock\n",
      "48380\tStock\n",
      "25118\tStock\n",
      "15691\tStock\n",
      "12786\tStock\n",
      "2956\tStock\n",
      "23021\tStock\n",
      "3254\tStock\n",
      "788\tStock\n",
      "29895\tStock\n",
      "17997\tStock\n",
      "4536\tStock\n",
      "15821\tStock\n",
      "1142\tStock\n",
      "629\tStock\n",
      "510\tStock\n",
      "33858\tStock\n",
      "23852\tStock\n",
      "4741\tStock\n",
      "3726\tStock\n",
      "786\tStock\n",
      "737\tStock\n",
      "42878\tStock\n",
      "5601\tStock\n",
      "3103\tStock\n",
      "5404\tStock\n",
      "796\tStock\n",
      "6927\tStock\n",
      "4820\tStock\n",
      "12797\tStock\n",
      "3685\tStock\n",
      "1502\tStock\n",
      "679\tStock\n",
      "16409\tStock\n",
      "24507\tStock\n",
      "3525\tStock\n",
      "3069\tStock\n",
      "1047\tStock\n",
      "1563\tStock\n",
      "3522\tStock\n",
      "24154\tStock\n",
      "816\tStock\n",
      "21893\tStock\n",
      "11159\tStock\n",
      "6791\tStock\n",
      "22640\tStock\n",
      "4729\tStock\n",
      "3441\tStock\n",
      "2951\tStock\n",
      "1670\tStock\n",
      "18706\tStock\n",
      "722\tStock\n",
      "3032\tStock\n",
      "30428\tStock\n",
      "3441\tStock\n",
      "1386\tStock\n",
      "3737\tStock\n",
      "38856\tStock\n",
      "\n"
     ]
    },
    {
     "data": {
      "text/plain": [
       "DatetimeIndex(['2014-07-27 17:30:00', '2014-08-18 22:48:00',\n",
       "               '2014-09-10 17:37:00', '2014-11-19 19:25:00',\n",
       "               '2014-11-26 20:31:00', '2015-02-02 01:26:00',\n",
       "               '2015-02-21 18:23:00', '2015-02-25 22:45:00',\n",
       "               '2016-03-26 12:57:00', '2016-05-04 17:34:00',\n",
       "               ...\n",
       "               '2018-04-13 16:27:00', '2018-04-13 17:11:00',\n",
       "               '2018-04-13 18:03:00', '2018-04-13 19:07:00',\n",
       "               '2018-04-13 19:41:00', '2018-04-13 22:01:00',\n",
       "               '2018-04-14 01:30:00', '2018-04-14 04:17:00',\n",
       "               '2018-04-14 06:16:00', '2018-04-14 08:57:00'],\n",
       "              dtype='datetime64[ns]', name='date', length=1551, freq=None)"
      ]
     },
     "execution_count": 57,
     "metadata": {},
     "output_type": "execute_result"
    }
   ],
   "source": [
    "df = data[data.type == 'Stock'].to_csv(sep='\\t',index=False)\n",
    "print(df)\n",
    "data.index"
   ]
  },
  {
   "cell_type": "code",
   "execution_count": 65,
   "metadata": {
    "scrolled": true
   },
   "outputs": [
    {
     "name": "stdout",
     "output_type": "stream",
     "text": [
      "[20712.34769006 17959.65386637 20923.80603245 20349.96394221\n",
      " 16481.12684792 18905.57067906 22095.1351722  18442.44371472\n",
      " 17505.63585394 20160.37199394 18552.42738486 21561.30765157\n",
      " 20722.94139046 18595.16241596 19250.25770042 20271.59471187\n",
      " 18610.00761889 20318.20666622 20419.39540462 19142.72011362\n",
      " 18603.5638516  20103.83386188 20549.56727943 20108.77776797\n",
      " 20182.44333407 20279.17221289 20026.24299674 19968.97520207\n",
      " 20007.41427637 20064.15649213 20271.96303945 20035.62536917\n",
      " 19863.67747566 20182.39256049 20198.22593238 20055.46461871\n",
      " 20118.89319565 20250.58165996 20086.95281632 20050.25334118\n",
      " 20157.53183488 20213.05176011 20114.82505136 20099.21249233\n",
      " 20135.37453662 20170.85119203 20168.49506672 20141.48554748\n",
      " 20171.27749435 20189.7761501  20149.93679281]\n"
     ]
    }
   ],
   "source": [
    "from statsmodels.tsa.ar_model import AR\n",
    "from random import random\n",
    "# contrived dataset\n",
    "# data = [x for x in range(0, 101, 5)]\n",
    "moddata = np.asarray(data)\n",
    "# fit model\n",
    "model = AR(moddata)\n",
    "model_fit = model.fit()\n",
    "# make prediction\n",
    "yhat = model_fit.predict(len(moddata), len(moddata) + 50)\n",
    "print(yhat)"
   ]
  },
  {
   "cell_type": "code",
   "execution_count": null,
   "metadata": {},
   "outputs": [],
   "source": []
  }
 ],
 "metadata": {
  "kernelspec": {
   "display_name": "Python 3",
   "language": "python",
   "name": "python3"
  },
  "language_info": {
   "codemirror_mode": {
    "name": "ipython",
    "version": 3
   },
   "file_extension": ".py",
   "mimetype": "text/x-python",
   "name": "python",
   "nbconvert_exporter": "python",
   "pygments_lexer": "ipython3",
   "version": "3.6.6"
  }
 },
 "nbformat": 4,
 "nbformat_minor": 2
}
